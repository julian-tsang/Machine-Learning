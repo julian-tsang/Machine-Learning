{
 "cells": [
  {
   "cell_type": "markdown",
   "metadata": {},
   "source": [
    "# Assignment 1\n",
    "\n",
    "During this first assignment you will create your own dataset, implement and perform linear regression and investigate its results with different datasets.\n",
    "\n",
    "1. Create datasets, set noise, add outliers, create large/small set\n",
    "2. Perform Least squares with SK learn\n",
    "3. Implement least squares manually\n",
    "4. Bonus\n",
    "\n",
    "Publish your notebook to Machine Learning repository on Github.\n",
    "\n",
    "### Deadline 28 September 23:59\n",
    "\n",
    "Do not hand in any other files, the Notebook should contain all your answers."
   ]
  },
  {
   "cell_type": "code",
   "execution_count": 295,
   "metadata": {
    "collapsed": false
   },
   "outputs": [
    {
     "name": "stdout",
     "output_type": "stream",
     "text": [
      "Populating the interactive namespace from numpy and matplotlib\n"
     ]
    }
   ],
   "source": [
    "%pylab inline \n",
    "global theta0\n",
    "global theta1\n",
    "global alpha\n",
    "\n",
    "theta0 = 1\n",
    "theta1 = 0.5\n",
    "alpha = 0.1"
   ]
  },
  {
   "cell_type": "markdown",
   "metadata": {},
   "source": [
    "# Creating the dataset\n",
    "\n",
    "In order to create the dataset we will use the [scikit-learn](http://scikit-learn.org/) toolkit (install first!). Specifically the [make_regression](http://scikit-learn.org/stable/modules/generated/sklearn.datasets.make_regression.html) function, which generates a dataset that is a good target for regression.\n",
    "\n",
    "## Problem 1\n",
    "Create several different datasets. Vary their sizes, levels of noise and add some outliers.\n",
    "\n",
    "It is only necessary to create them (you can visualize them for yourself, but you don't need to hand this in). You are going to use them in the next problem."
   ]
  },
  {
   "cell_type": "code",
   "execution_count": 296,
   "metadata": {
    "collapsed": false
   },
   "outputs": [
    {
     "name": "stdout",
     "output_type": "stream",
     "text": [
      "Populating the interactive namespace from numpy and matplotlib\n"
     ]
    },
    {
     "data": {
      "text/plain": [
       "[<matplotlib.lines.Line2D at 0xbf0ac18>]"
      ]
     },
     "execution_count": 296,
     "metadata": {},
     "output_type": "execute_result"
    },
    {
     "data": {
      "image/png": "[encoded data removed]",
      "text/plain": [
       "<matplotlib.figure.Figure at 0xcd16048>"
      ]
     },
     "metadata": {},
     "output_type": "display_data"
    }
   ],
   "source": [
    "%pylab inline\n",
    "\n",
    "from sklearn.datasets import make_regression\n",
    "\n",
    "noise = 5 #Standard deviation of added Gaussian noise\n",
    "n_samples = 100 #Size of the dataset\n",
    "n_dimensions = 1 #We are doing univariate regression, so leave this at 1\n",
    "(x1,y1) = make_regression(n_samples=n_samples, n_features=n_dimensions, noise=noise)\n",
    "(x1_test,y1_test) = make_regression(n_samples=50, n_features=n_dimensions, noise=noise)\n",
    "plt.plot(x1,y1,'o', color = 'b')\n",
    "#plt.show()\n",
    "\n",
    "############### More DATASETS\n",
    "\n",
    "#Increased noise\n",
    "(x2,y2) = make_regression(n_samples=100, n_features=n_dimensions, noise=50)\n",
    "(x2_test,y2_test) = make_regression(n_samples=100, n_features=n_dimensions, noise=50)\n",
    "plt.plot(x2,y2,'o', color = 'm')\n",
    "#plt.show()\n",
    "\n",
    "#Decreased noise\n",
    "(x3,y3) = make_regression(n_samples=100, n_features=n_dimensions, noise=.01)\n",
    "(x3_test,y3_test) = make_regression(n_samples=100, n_features=n_dimensions, noise=.01)\n",
    "plt.plot(x3,y3,'o', color = 'y')\n",
    "\n",
    "\n",
    "\n"
   ]
  },
  {
   "cell_type": "markdown",
   "metadata": {},
   "source": [
    "# Perform Linear Regression\n",
    "\n",
    "Scikit-learn has an implementation of [Linear Regression](http://scikit-learn.org/stable/modules/generated/sklearn.linear_model.LinearRegression.html). Below you see an example of how to use it.\n",
    "\n",
    "## Problem 2\n",
    "Use the scikit-learn method to fit your own datasets. What is the effect on the score of varying the amount of noise?"
   ]
  },
  {
   "cell_type": "code",
   "execution_count": 297,
   "metadata": {
    "collapsed": false
   },
   "outputs": [
    {
     "name": "stdout",
     "output_type": "stream",
     "text": [
      "0.785314174161\n"
     ]
    },
    {
     "data": {
      "image/png": "[encoded data removed]",
      "text/plain": [
       "<matplotlib.figure.Figure at 0xc981240>"
      ]
     },
     "metadata": {},
     "output_type": "display_data"
    }
   ],
   "source": [
    "from sklearn.linear_model import LinearRegression\n",
    "\n",
    "#The regression object\n",
    "#this code constructs a local version of linear regression\n",
    "regr = LinearRegression()\n",
    "\n",
    "#Fit the regression object on the data\n",
    "regr.fit(x1,y1)\n",
    "\n",
    "#Print the score that the fit has\n",
    "print regr.score(x1_test,y1_test)\n",
    "\n",
    "#Plot the resulting line\n",
    "plt.plot(x1,regr.predict(x1))\n",
    "plt.plot(x1,y1,'o')\n",
    "plt.show()"
   ]
  },
  {
   "cell_type": "markdown",
   "metadata": {},
   "source": [
    "## Your analysis\n",
    "\n",
    "\n",
    "The higher the noise (or the more data is spread out), the lower the absolute value of the regression score."
   ]
  },
  {
   "cell_type": "code",
   "execution_count": 298,
   "metadata": {
    "collapsed": false
   },
   "outputs": [
    {
     "name": "stdout",
     "output_type": "stream",
     "text": [
      "-0.648298966479\n"
     ]
    },
    {
     "data": {
      "image/png": "[encoded data removed]",
      "text/plain": [
       "<matplotlib.figure.Figure at 0xbcac3c8>"
      ]
     },
     "metadata": {},
     "output_type": "display_data"
    }
   ],
   "source": [
    "#Add a serious outlier and see what happens\n",
    "\n",
    "#Example of creating big outlier:\n",
    "x1[-1] = 20 #negative indices begin at the end. So this changes the last values of x1 and y1\n",
    "y1[-1] = -500\n",
    "\n",
    "#Create a plot that shows how the prediction can be very wrong in the presence of a serious outlier.\n",
    "\n",
    "\n",
    "regr.fit(x1,y1)\n",
    "\n",
    "#Print the score that the fit has\n",
    "print regr.score(x1_test,y1_test)\n",
    "\n",
    "#Plot the resulting line\n",
    "plt.plot(x1,regr.predict(x1))\n",
    "plt.plot(x1,y1,'o')\n",
    "plt.show()"
   ]
  },
  {
   "cell_type": "markdown",
   "metadata": {},
   "source": [
    "## Problem 3: Implement Linear regression\n",
    "\n",
    "In class you looked at performing regression using gradient descent. Now you are going to implement it.\n",
    "\n",
    "Make sure to comment your code!"
   ]
  },
  {
   "cell_type": "code",
   "execution_count": 299,
   "metadata": {
    "collapsed": false,
    "scrolled": true
   },
   "outputs": [
    {
     "name": "stdout",
     "output_type": "stream",
     "text": [
      "[[ -1.00393005e+00]\n",
      " [ -1.72729356e-01]\n",
      " [ -1.22290122e+00]\n",
      " [  5.23891612e-01]\n",
      " [ -8.88254254e-01]\n",
      " [  7.88388453e-01]\n",
      " [ -1.00507515e+00]\n",
      " [ -1.32938047e+00]\n",
      " [ -9.60527747e-01]\n",
      " [ -6.10475310e-01]\n",
      " [ -6.16705499e-01]\n",
      " [  1.08729037e+00]\n",
      " [  2.16001994e-01]\n",
      " [  5.17556232e-01]\n",
      " [  3.29541732e-01]\n",
      " [  1.92637470e-01]\n",
      " [ -6.06328852e-01]\n",
      " [ -1.11509252e+00]\n",
      " [  6.43594821e-02]\n",
      " [  1.34430610e-01]\n",
      " [  6.65979677e-01]\n",
      " [ -1.03746021e+00]\n",
      " [ -8.39672230e-01]\n",
      " [ -2.14169726e+00]\n",
      " [  2.47641009e-01]\n",
      " [ -1.83211831e+00]\n",
      " [  1.55759414e-01]\n",
      " [  1.04040466e+00]\n",
      " [ -5.07304761e-01]\n",
      " [ -7.03025573e-01]\n",
      " [ -2.04144529e+00]\n",
      " [ -4.92749177e-01]\n",
      " [ -1.11399740e+00]\n",
      " [ -8.13700367e-01]\n",
      " [  1.29814414e+00]\n",
      " [ -6.86550668e-01]\n",
      " [  4.79441387e-01]\n",
      " [ -6.38262489e-02]\n",
      " [ -8.80238092e-02]\n",
      " [  3.30687148e-01]\n",
      " [  5.73589930e-01]\n",
      " [  1.42831461e+00]\n",
      " [  3.76907456e-01]\n",
      " [ -2.09124065e-01]\n",
      " [ -1.52683026e-01]\n",
      " [  7.93031980e-01]\n",
      " [ -1.92011017e+00]\n",
      " [ -9.16897711e-01]\n",
      " [ -4.97505743e-01]\n",
      " [  1.40045285e+00]\n",
      " [ -7.48103821e-01]\n",
      " [ -8.46841416e-01]\n",
      " [ -1.42617586e-01]\n",
      " [  2.42603708e-02]\n",
      " [  1.05464953e+00]\n",
      " [ -1.05654350e-01]\n",
      " [ -1.32441624e+00]\n",
      " [ -3.83554043e-01]\n",
      " [ -1.68099877e+00]\n",
      " [  2.60091980e+00]\n",
      " [ -6.56999393e-02]\n",
      " [  1.37250577e-01]\n",
      " [ -1.14368496e+00]\n",
      " [  1.30295594e+00]\n",
      " [  6.09692415e-02]\n",
      " [  5.54153506e-01]\n",
      " [ -5.76343997e-03]\n",
      " [  7.01556345e-01]\n",
      " [ -5.81693230e-01]\n",
      " [ -1.97937079e+00]\n",
      " [ -8.28071456e-01]\n",
      " [  8.98903269e-01]\n",
      " [  4.73848510e-01]\n",
      " [  6.16463052e-01]\n",
      " [ -7.85005556e-01]\n",
      " [  6.32702668e-01]\n",
      " [ -9.53326023e-01]\n",
      " [ -6.91811088e-01]\n",
      " [  7.60331860e-01]\n",
      " [ -1.46475676e-01]\n",
      " [ -1.15144794e-01]\n",
      " [ -1.10969149e+00]\n",
      " [  9.80831514e-01]\n",
      " [  1.69405171e+00]\n",
      " [ -1.52855000e+00]\n",
      " [  1.36469125e-01]\n",
      " [ -7.75398187e-01]\n",
      " [  7.94930947e-01]\n",
      " [  7.46863677e-01]\n",
      " [ -5.05928612e-01]\n",
      " [ -1.92544136e-01]\n",
      " [  4.72785686e-01]\n",
      " [  6.46966939e-01]\n",
      " [  6.17482022e-01]\n",
      " [ -2.50194293e-01]\n",
      " [  1.79851829e+00]\n",
      " [ -2.33015391e+00]\n",
      " [  9.77996299e-02]\n",
      " [ -4.97810653e-02]\n",
      " [  2.00000000e+01]]\n"
     ]
    }
   ],
   "source": [
    "#Make a prediction function h\n",
    "def prediction_function(x,theta0,theta1):\n",
    "    #m = 4\n",
    "    h = np.add(theta0, np.multiply(theta1,x))  \n",
    "    return h      #creates x_predict\n",
    "\n",
    "print prediction_function(x1,0,1)    #creates a column "
   ]
  },
  {
   "cell_type": "code",
   "execution_count": 300,
   "metadata": {
    "collapsed": false
   },
   "outputs": [
    {
     "name": "stdout",
     "output_type": "stream",
     "text": [
      "[[ 562502.30402009]]\n"
     ]
    }
   ],
   "source": [
    "#Use the output of that function to compute the cost function J:\n",
    "def cost_function(x_predict,y):   #h(x) - y\n",
    "    #num_values = len(y)    # equals m\n",
    "    #counter = 1\n",
    "    #summation = 0\n",
    "    #for i in range(1,num_values):\n",
    "    #    hypothesis = prediction_function(x_predict[counter],theta0,theta1)\n",
    "    #    loss = (hypothesis - y[counter])**2\n",
    "    #    summation = summation + loss\n",
    "    #    counter += 1\n",
    "    #cost = (float(1)/float(2*num_values))*summation\n",
    "    #newarray=ones([m,1])\n",
    "    newarray = y.reshape(100,1)\n",
    "    loss = np.subtract(x_predict,newarray)\n",
    "    cost = dot(loss.T,loss)  #row*column = scalar\n",
    "    return cost\n",
    "\n",
    "\n",
    "print cost_function(prediction_function(x1,0,1),y1)"
   ]
  },
  {
   "cell_type": "code",
   "execution_count": 301,
   "metadata": {
    "collapsed": false
   },
   "outputs": [
    {
     "name": "stdout",
     "output_type": "stream",
     "text": [
      "(-1.4569726277777582, -5.076118946555642)\n"
     ]
    }
   ],
   "source": [
    "#Create a function that returns the gradient values, given h (x_predict), y and x:\n",
    "def compute_gradient(x_predict,y,x):\n",
    "    global theta0\n",
    "    global theta1\n",
    "    theta0 = 0\n",
    "    theta1 = 0\n",
    "    #m = 4\n",
    "    #num_values = len(y)    # equals m\n",
    "    #counter = 1\n",
    "    #for i in range(1,num_values):\n",
    "    #    hypothesis = prediction_function(x_predict[counter],theta0,theta1)\n",
    "    #    loss = (hypothesis - y[counter])\n",
    "    #    theta0 = theta0 - (alpha/float(num_values))*(np.sum(loss))\n",
    "    #    theta1 = theta1 - ((alpha/float(num_values))*(np.sum(loss))*(x[counter]))\n",
    "    #    counter += 1\n",
    "    theta0 = theta0 - (alpha/m)*dot((x_predict-y.reshape((100,1))).T,ones([m,1]))   #dot product of column transposed (row) and row transposed (column) equals scalar\n",
    "    theta1 = theta1 - (alpha/m)*dot((x_predict-y.reshape((100,1))).T,x)   #dot product of column transposed (row) and column = scalar\n",
    "    return float(theta0), float(theta1)\n",
    "\n",
    "print compute_gradient(prediction_function(x1,theta0,theta1),y1,x1)"
   ]
  },
  {
   "cell_type": "code",
   "execution_count": 302,
   "metadata": {
    "collapsed": false
   },
   "outputs": [
    {
     "name": "stdout",
     "output_type": "stream",
     "text": [
      "[5069.752240883345, 49198.469489878466, 691948.8937227221, 10666585.275760572, 162981347.4018737, 2498395724.427534, 38269457574.642044, 586313773200.7583, 8982264769720.422, 137609128965206.06, 2108177624017302.8, 3.2297396926726668e+16, 4.947977867843496e+17, 7.580328033801077e+18, 1.1613102124366723e+20, 1.7791333150268302e+21, 2.725641534726888e+22, 4.175697073867863e+23, 6.397189736619714e+24, 9.800528104169865e+25, 1.501446026689201e+27, 2.3002231584886612e+28, 3.523953898305159e+29, 5.398715786141471e+30, 8.27086079461779e+31, 1.2671001955603465e+33, 1.9412041206567787e+34, 2.973934856342143e+35, 4.5560837398049734e+36, 6.979944096572077e+37, 1.0693310828689222e+39, 1.6382208065981374e+40, 2.5097628360065407e+41, 3.844969779183585e+42, 5.890513793071619e+43, 9.024297911057845e+44, 1.3825271554971958e+46, 2.1180388264277862e+47, 3.244846549608834e+48, 4.971121869501453e+49, 7.615784679991921e+50, 1.16674219249862e+52, 1.7874551355592309e+53, 2.7383906077784585e+54, 4.195228720201235e+55, 6.427112320940728e+56, 9.84636965967536e+57, 1.5084689769477197e+59, 2.310982354981707e+60, 3.540437043553393e+61, 5.423968050792107e+62, 8.309547396014829e+63, 1.2730270031095245e+65, 1.9502840207918408e+66, 2.987845310794831e+67, 4.577394628713666e+68, 7.012592489737323e+69, 1.0743328337618075e+71, 1.6458835151020005e+72, 2.5215021454748908e+73, 3.8629544626312517e+74, 5.918066422089942e+75, 9.066508682686401e+76, 1.3889938677673507e+78, 2.1279458634165812e+79, 3.260024182043532e+80, 4.9943740817000444e+81, 7.651407190581414e+82, 1.1721995797349852e+84, 1.795815881322172e+85, 2.751199313975217e+86, 4.214851725024809e+87, 6.457174866867762e+88, 9.892425637123284e+89, 1.5155247767586601e+91, 2.321791877161183e+92, 3.5569972880160272e+93, 5.449338431842153e+94, 8.348414952352952e+95, 1.2789815330502334e+97, 1.9594063917755876e+98, 3.001820830809631e+99, 4.598805198403502e+100, 7.04539359438015e+101, 1.0793579801328567e+103, 1.6535820656006614e+104, 2.5332963650665613e+105, 3.881023268674765e+106, 5.945747927364674e+107, 9.108916893413202e+108, 1.3954908278105256e+110, 2.1378992401516986e+111, 3.275272807211735e+112, 5.0177350551373314e+113, 7.687196323956907e+114, 1.1776824936692316e+116, 1.8042157341196517e+117, 2.764067932353235e+118, 4.234566515623135e+119, 6.487378029081333e+120]\n"
     ]
    },
    {
     "data": {
      "image/png": "[encoded data removed]",
      "text/plain": [
       "<matplotlib.figure.Figure at 0x90cc0f0>"
      ]
     },
     "metadata": {},
     "output_type": "display_data"
    }
   ],
   "source": [
    "#These are some default parameters, see how playing with them affects the behavior\n",
    "alpha = 0.8\n",
    "theta0 = 0\n",
    "theta1 = 1\n",
    "x = x1 \n",
    "y = y1 \n",
    "iterations = 100\n",
    "#Fill in the stopcondition yourself\n",
    "stopcondition = 0\n",
    "x_predict = prediction_function(x,theta0,theta1)   #initial hypothesis based on given values\n",
    "i = 0\n",
    "cost = 10\n",
    "m=len(x)\n",
    "cost_list = []\n",
    "    \n",
    "#Try to save the output of the cost function at each iteration and plot it at the end\n",
    "while (i < iterations) and (cost > stopcondition):\n",
    "    i = i +1\n",
    "    #Put everything together here\n",
    "    [theta0,theta1] = compute_gradient(x_predict,y,x)    #ith iteration changes the theta values\n",
    "    x_predict = prediction_function(x,theta0,theta1)     #change hypothesis based on new theta values\n",
    "    cost = cost_function(x_predict,y)            #compute cost based on new hypothesis\n",
    "    cost_list.append(float(cost/(2*m)))\n",
    "    \n",
    "    \n",
    "print cost_list\n",
    "plt.figure(1)\n",
    "plt.subplot(211)\n",
    "plt.plot(cost_list) \n",
    "\n",
    "plt.subplot(212)\n",
    "plt.plot(x,prediction_function(x1,theta0,theta1))\n",
    "plt.plot(x,y,'o')\n",
    "plt.show()"
   ]
  },
  {
   "cell_type": "markdown",
   "metadata": {},
   "source": [
    "## Problem 4\n",
    "\n",
    "Write a short analysis about the amount of iterations necessary to obtain a good result, the influence of the learning rate and the trend of the cost function. \n",
    "\n",
    "Assuming that we do not consider the extreme outliers (20,-500) in the dataset, the learning rate influences the number of iterations necessary to obtain a good result. If it's too large, then it would require more iterations for gradient descent to converge because of possible overshooting. This overshooting behavior is apparent in the trend of the cost function as well. \n",
    "Implementing an appropriate learning rate would allow gradient descent to converge quickly."
   ]
  },
  {
   "cell_type": "markdown",
   "metadata": {},
   "source": [
    "# Bonus Problem: Implement Least Squares with closed form solution\n",
    "\n",
    "For the Least Squares method there is also a closed-form solution.\n",
    "\n",
    "$\\theta_1$ can be found by:\n",
    "$$ \\boldsymbol{\\hat\\theta_1} =( X ^TX)^{-1}X^{T}\\boldsymbol y $$\n",
    "\n",
    "You can leave $\\theta_0$ to be 0. Make a plot with your data as dots and your prediction as a line."
   ]
  },
  {
   "cell_type": "code",
   "execution_count": 303,
   "metadata": {
    "collapsed": false
   },
   "outputs": [
    {
     "name": "stdout",
     "output_type": "stream",
     "text": [
      "[[ -1.00393005e+00]\n",
      " [ -1.72729356e-01]\n",
      " [ -1.22290122e+00]\n",
      " [  5.23891612e-01]\n",
      " [ -8.88254254e-01]\n",
      " [  7.88388453e-01]\n",
      " [ -1.00507515e+00]\n",
      " [ -1.32938047e+00]\n",
      " [ -9.60527747e-01]\n",
      " [ -6.10475310e-01]\n",
      " [ -6.16705499e-01]\n",
      " [  1.08729037e+00]\n",
      " [  2.16001994e-01]\n",
      " [  5.17556232e-01]\n",
      " [  3.29541732e-01]\n",
      " [  1.92637470e-01]\n",
      " [ -6.06328852e-01]\n",
      " [ -1.11509252e+00]\n",
      " [  6.43594821e-02]\n",
      " [  1.34430610e-01]\n",
      " [  6.65979677e-01]\n",
      " [ -1.03746021e+00]\n",
      " [ -8.39672230e-01]\n",
      " [ -2.14169726e+00]\n",
      " [  2.47641009e-01]\n",
      " [ -1.83211831e+00]\n",
      " [  1.55759414e-01]\n",
      " [  1.04040466e+00]\n",
      " [ -5.07304761e-01]\n",
      " [ -7.03025573e-01]\n",
      " [ -2.04144529e+00]\n",
      " [ -4.92749177e-01]\n",
      " [ -1.11399740e+00]\n",
      " [ -8.13700367e-01]\n",
      " [  1.29814414e+00]\n",
      " [ -6.86550668e-01]\n",
      " [  4.79441387e-01]\n",
      " [ -6.38262489e-02]\n",
      " [ -8.80238092e-02]\n",
      " [  3.30687148e-01]\n",
      " [  5.73589930e-01]\n",
      " [  1.42831461e+00]\n",
      " [  3.76907456e-01]\n",
      " [ -2.09124065e-01]\n",
      " [ -1.52683026e-01]\n",
      " [  7.93031980e-01]\n",
      " [ -1.92011017e+00]\n",
      " [ -9.16897711e-01]\n",
      " [ -4.97505743e-01]\n",
      " [  1.40045285e+00]\n",
      " [ -7.48103821e-01]\n",
      " [ -8.46841416e-01]\n",
      " [ -1.42617586e-01]\n",
      " [  2.42603708e-02]\n",
      " [  1.05464953e+00]\n",
      " [ -1.05654350e-01]\n",
      " [ -1.32441624e+00]\n",
      " [ -3.83554043e-01]\n",
      " [ -1.68099877e+00]\n",
      " [  2.60091980e+00]\n",
      " [ -6.56999393e-02]\n",
      " [  1.37250577e-01]\n",
      " [ -1.14368496e+00]\n",
      " [  1.30295594e+00]\n",
      " [  6.09692415e-02]\n",
      " [  5.54153506e-01]\n",
      " [ -5.76343997e-03]\n",
      " [  7.01556345e-01]\n",
      " [ -5.81693230e-01]\n",
      " [ -1.97937079e+00]\n",
      " [ -8.28071456e-01]\n",
      " [  8.98903269e-01]\n",
      " [  4.73848510e-01]\n",
      " [  6.16463052e-01]\n",
      " [ -7.85005556e-01]\n",
      " [  6.32702668e-01]\n",
      " [ -9.53326023e-01]\n",
      " [ -6.91811088e-01]\n",
      " [  7.60331860e-01]\n",
      " [ -1.46475676e-01]\n",
      " [ -1.15144794e-01]\n",
      " [ -1.10969149e+00]\n",
      " [  9.80831514e-01]\n",
      " [  1.69405171e+00]\n",
      " [ -1.52855000e+00]\n",
      " [  1.36469125e-01]\n",
      " [ -7.75398187e-01]\n",
      " [  7.94930947e-01]\n",
      " [  7.46863677e-01]\n",
      " [ -5.05928612e-01]\n",
      " [ -1.92544136e-01]\n",
      " [  4.72785686e-01]\n",
      " [  6.46966939e-01]\n",
      " [  6.17482022e-01]\n",
      " [ -2.50194293e-01]\n",
      " [  1.79851829e+00]\n",
      " [ -2.33015391e+00]\n",
      " [  9.77996299e-02]\n",
      " [ -4.97810653e-02]\n",
      " [  2.00000000e+01]]\n"
     ]
    }
   ],
   "source": [
    "print x1  #everything here is used as a testing space for problem 3"
   ]
  },
  {
   "cell_type": "code",
   "execution_count": 304,
   "metadata": {
    "collapsed": false
   },
   "outputs": [
    {
     "name": "stdout",
     "output_type": "stream",
     "text": [
      "[[ -54.33349653  -12.51659997  -77.31934109   32.882513    -47.39648879\n",
      "    42.61892388  -62.14308612  -70.98235875  -56.24646828  -31.73872032\n",
      "   -29.13436241   65.5454571    18.208313     33.54188311   15.79399478\n",
      "    13.11257933  -40.56615559  -59.8355871     3.82774842   11.31328815\n",
      "    36.05563242  -64.39474826  -51.73798621 -125.62221062   22.08521404\n",
      "  -104.9923131    14.64229097   59.28008739  -25.16871984  -42.10267356\n",
      "  -124.62748096  -28.32841942  -64.70392026  -38.19044326   79.81589494\n",
      "   -36.49403694   32.37609467   -5.13923268   -5.31039733   11.14562296\n",
      "    31.23998882   80.88824028   29.41735344   -9.53439523   -1.85561187\n",
      "    42.51828143 -115.16080421  -57.99572942  -34.87284677   85.21491323\n",
      "   -40.94630759  -50.16252013   -8.0515732     2.99909008   61.02951969\n",
      "   -15.13147838  -71.54722625  -23.30722651  -92.05017288  147.45732452\n",
      "    -2.96528264    2.10446977  -71.50838567   74.05955134    2.57860927\n",
      "    32.91702602   -0.50883881   42.2805891   -35.02890047 -107.20936493\n",
      "   -42.55681801   45.79848561   30.26950658   36.2513125   -49.11545212\n",
      "    31.26977911  -68.13338798  -50.04734843   46.29357985   -6.42746031\n",
      "   -13.89253203  -64.98706291   48.84017122  101.640873    -98.11620907\n",
      "     6.03437248  -42.45047679   42.65113547   53.01954131  -29.15227111\n",
      "   -19.64717899   30.99565847   38.3789627    30.56352645   -8.90200022\n",
      "   101.68180117 -131.39878064    6.4216203    -9.54938363 -500.        ]]\n"
     ]
    }
   ],
   "source": [
    "print matrix(y1)"
   ]
  },
  {
   "cell_type": "code",
   "execution_count": 305,
   "metadata": {
    "collapsed": false
   },
   "outputs": [
    {
     "name": "stdout",
     "output_type": "stream",
     "text": [
      "[[-4825.93850068]]\n"
     ]
    }
   ],
   "source": [
    "print dot(x1.T,y1.reshape((100,1)))"
   ]
  },
  {
   "cell_type": "code",
   "execution_count": 306,
   "metadata": {
    "collapsed": false
   },
   "outputs": [
    {
     "name": "stdout",
     "output_type": "stream",
     "text": [
      "[[ -1.61131574e+60]\n",
      " [ -2.57870639e+59]\n",
      " [ -1.96786678e+60]\n",
      " [  8.76438138e+59]\n",
      " [ -1.42296071e+60]\n",
      " [  1.30711867e+60]\n",
      " [ -1.61318032e+60]\n",
      " [ -2.14124707e+60]\n",
      " [ -1.54064373e+60]\n",
      " [ -9.70652913e+59]\n",
      " [ -9.80797536e+59]\n",
      " [  1.79382103e+60]\n",
      " [  3.75101097e+59]\n",
      " [  8.66122231e+59]\n",
      " [  5.59977991e+59]\n",
      " [  3.37056613e+59]\n",
      " [ -9.63901229e+59]\n",
      " [ -1.79232174e+60]\n",
      " [  1.28181408e+59]\n",
      " [  2.42278311e+59]\n",
      " [  1.10780031e+60]\n",
      " [ -1.66591295e+60]\n",
      " [ -1.34385454e+60]\n",
      " [ -3.46394350e+60]\n",
      " [  4.26618944e+59]\n",
      " [ -2.95985570e+60]\n",
      " [  2.77008029e+59]\n",
      " [  1.71747696e+60]\n",
      " [ -8.02660182e+59]\n",
      " [ -1.12135262e+60]\n",
      " [ -3.30070308e+60]\n",
      " [ -7.78959305e+59]\n",
      " [ -1.79053856e+60]\n",
      " [ -1.30156452e+60]\n",
      " [  2.13715447e+60]\n",
      " [ -1.09452651e+60]\n",
      " [  8.04059784e+59]\n",
      " [ -8.05435753e+58]\n",
      " [ -1.19944492e+59]\n",
      " [  5.61843072e+59]\n",
      " [  9.57361970e+59]\n",
      " [  2.34911122e+60]\n",
      " [  6.37103657e+59]\n",
      " [ -3.17132188e+59]\n",
      " [ -2.25229175e+59]\n",
      " [  1.31467973e+60]\n",
      " [ -3.10313296e+60]\n",
      " [ -1.46960088e+60]\n",
      " [ -7.86704428e+59]\n",
      " [  2.30374387e+60]\n",
      " [ -1.19475359e+60]\n",
      " [ -1.35552813e+60]\n",
      " [ -2.08839607e+59]\n",
      " [  6.28879756e+58]\n",
      " [  1.74067190e+60]\n",
      " [ -1.48652323e+59]\n",
      " [ -2.13316380e+60]\n",
      " [ -6.01156734e+59]\n",
      " [ -2.71378758e+60]\n",
      " [  4.25846568e+60]\n",
      " [ -8.35945076e+58]\n",
      " [  2.46870067e+59]\n",
      " [ -1.83887883e+60]\n",
      " [  2.14498954e+60]\n",
      " [  1.22661075e+59]\n",
      " [  9.25713617e+59]\n",
      " [  1.40001678e+58]\n",
      " [  1.16572984e+60]\n",
      " [ -9.23787016e+59]\n",
      " [ -3.19962710e+60]\n",
      " [ -1.32496498e+60]\n",
      " [  1.48707008e+60]\n",
      " [  7.94952894e+59]\n",
      " [  1.02717233e+60]\n",
      " [ -1.25484073e+60]\n",
      " [  1.05361531e+60]\n",
      " [ -1.52891715e+60]\n",
      " [ -1.10309206e+60]\n",
      " [  1.26143409e+60]\n",
      " [ -2.15121740e+59]\n",
      " [ -1.64105625e+59]\n",
      " [ -1.78352723e+60]\n",
      " [  1.62047394e+60]\n",
      " [  2.78181127e+60]\n",
      " [ -2.46555505e+60]\n",
      " [  2.45597628e+59]\n",
      " [ -1.23919704e+60]\n",
      " [  1.31777182e+60]\n",
      " [  1.23950383e+60]\n",
      " [ -8.00419396e+59]\n",
      " [ -2.90135068e+59]\n",
      " [  7.93222298e+59]\n",
      " [  1.07684184e+60]\n",
      " [  1.02883152e+60]\n",
      " [ -3.84006891e+59]\n",
      " [  2.95191432e+60]\n",
      " [ -3.77080768e+60]\n",
      " [  1.82632042e+59]\n",
      " [ -5.76737856e+58]\n",
      " [  3.25894093e+61]]\n"
     ]
    }
   ],
   "source": [
    "print prediction_function(x1, theta0, theta1)"
   ]
  },
  {
   "cell_type": "code",
   "execution_count": null,
   "metadata": {
    "collapsed": false
   },
   "outputs": [],
   "source": []
  },
  {
   "cell_type": "code",
   "execution_count": null,
   "metadata": {
    "collapsed": false
   },
   "outputs": [],
   "source": []
  },
  {
   "cell_type": "code",
   "execution_count": null,
   "metadata": {
    "collapsed": false,
    "scrolled": true
   },
   "outputs": [],
   "source": []
  },
  {
   "cell_type": "code",
   "execution_count": 308,
   "metadata": {
    "collapsed": false
   },
   "outputs": [
    {
     "name": "stdout",
     "output_type": "stream",
     "text": [
      "[0 1 2 3]\n"
     ]
    }
   ],
   "source": [
    "print np.array(prediction_function([0,1,2,3],0,1))"
   ]
  },
  {
   "cell_type": "code",
   "execution_count": 309,
   "metadata": {
    "collapsed": false
   },
   "outputs": [
    {
     "name": "stdout",
     "output_type": "stream",
     "text": [
      "[2 2 1 3]\n"
     ]
    }
   ],
   "source": [
    "print np.array([2,2,1,3])"
   ]
  },
  {
   "cell_type": "code",
   "execution_count": 310,
   "metadata": {
    "collapsed": false
   },
   "outputs": [
    {
     "name": "stdout",
     "output_type": "stream",
     "text": [
      "[[ -1.00393005e+00]\n",
      " [ -1.72729356e-01]\n",
      " [ -1.22290122e+00]\n",
      " [  5.23891612e-01]\n",
      " [ -8.88254254e-01]\n",
      " [  7.88388453e-01]\n",
      " [ -1.00507515e+00]\n",
      " [ -1.32938047e+00]\n",
      " [ -9.60527747e-01]\n",
      " [ -6.10475310e-01]\n",
      " [ -6.16705499e-01]\n",
      " [  1.08729037e+00]\n",
      " [  2.16001994e-01]\n",
      " [  5.17556232e-01]\n",
      " [  3.29541732e-01]\n",
      " [  1.92637470e-01]\n",
      " [ -6.06328852e-01]\n",
      " [ -1.11509252e+00]\n",
      " [  6.43594821e-02]\n",
      " [  1.34430610e-01]\n",
      " [  6.65979677e-01]\n",
      " [ -1.03746021e+00]\n",
      " [ -8.39672230e-01]\n",
      " [ -2.14169726e+00]\n",
      " [  2.47641009e-01]\n",
      " [ -1.83211831e+00]\n",
      " [  1.55759414e-01]\n",
      " [  1.04040466e+00]\n",
      " [ -5.07304761e-01]\n",
      " [ -7.03025573e-01]\n",
      " [ -2.04144529e+00]\n",
      " [ -4.92749177e-01]\n",
      " [ -1.11399740e+00]\n",
      " [ -8.13700367e-01]\n",
      " [  1.29814414e+00]\n",
      " [ -6.86550668e-01]\n",
      " [  4.79441387e-01]\n",
      " [ -6.38262489e-02]\n",
      " [ -8.80238092e-02]\n",
      " [  3.30687148e-01]\n",
      " [  5.73589930e-01]\n",
      " [  1.42831461e+00]\n",
      " [  3.76907456e-01]\n",
      " [ -2.09124065e-01]\n",
      " [ -1.52683026e-01]\n",
      " [  7.93031980e-01]\n",
      " [ -1.92011017e+00]\n",
      " [ -9.16897711e-01]\n",
      " [ -4.97505743e-01]\n",
      " [  1.40045285e+00]\n",
      " [ -7.48103821e-01]\n",
      " [ -8.46841416e-01]\n",
      " [ -1.42617586e-01]\n",
      " [  2.42603708e-02]\n",
      " [  1.05464953e+00]\n",
      " [ -1.05654350e-01]\n",
      " [ -1.32441624e+00]\n",
      " [ -3.83554043e-01]\n",
      " [ -1.68099877e+00]\n",
      " [  2.60091980e+00]\n",
      " [ -6.56999393e-02]\n",
      " [  1.37250577e-01]\n",
      " [ -1.14368496e+00]\n",
      " [  1.30295594e+00]\n",
      " [  6.09692415e-02]\n",
      " [  5.54153506e-01]\n",
      " [ -5.76343997e-03]\n",
      " [  7.01556345e-01]\n",
      " [ -5.81693230e-01]\n",
      " [ -1.97937079e+00]\n",
      " [ -8.28071456e-01]\n",
      " [  8.98903269e-01]\n",
      " [  4.73848510e-01]\n",
      " [  6.16463052e-01]\n",
      " [ -7.85005556e-01]\n",
      " [  6.32702668e-01]\n",
      " [ -9.53326023e-01]\n",
      " [ -6.91811088e-01]\n",
      " [  7.60331860e-01]\n",
      " [ -1.46475676e-01]\n",
      " [ -1.15144794e-01]\n",
      " [ -1.10969149e+00]\n",
      " [  9.80831514e-01]\n",
      " [  1.69405171e+00]\n",
      " [ -1.52855000e+00]\n",
      " [  1.36469125e-01]\n",
      " [ -7.75398187e-01]\n",
      " [  7.94930947e-01]\n",
      " [  7.46863677e-01]\n",
      " [ -5.05928612e-01]\n",
      " [ -1.92544136e-01]\n",
      " [  4.72785686e-01]\n",
      " [  6.46966939e-01]\n",
      " [  6.17482022e-01]\n",
      " [ -2.50194293e-01]\n",
      " [  1.79851829e+00]\n",
      " [ -2.33015391e+00]\n",
      " [  9.77996299e-02]\n",
      " [ -4.97810653e-02]\n",
      " [  2.00000000e+01]]\n"
     ]
    }
   ],
   "source": [
    "print x"
   ]
  },
  {
   "cell_type": "code",
   "execution_count": 311,
   "metadata": {
    "collapsed": false
   },
   "outputs": [
    {
     "name": "stdout",
     "output_type": "stream",
     "text": [
      "100\n"
     ]
    }
   ],
   "source": [
    "print len(x1)"
   ]
  },
  {
   "cell_type": "code",
   "execution_count": null,
   "metadata": {
    "collapsed": true
   },
   "outputs": [],
   "source": []
  }
 ],
 "metadata": {
  "anaconda-cloud": {},
  "kernelspec": {
   "display_name": "Python [Root]",
   "language": "python",
   "name": "Python [Root]"
  },
  "language_info": {
   "codemirror_mode": {
    "name": "ipython",
    "version": 2
   },
   "file_extension": ".py",
   "mimetype": "text/x-python",
   "name": "python",
   "nbconvert_exporter": "python",
   "pygments_lexer": "ipython2",
   "version": "2.7.12"
  }
 },
 "nbformat": 4,
 "nbformat_minor": 0
}
